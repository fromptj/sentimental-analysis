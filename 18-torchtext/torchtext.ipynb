{
 "cells": [
  {
   "cell_type": "code",
   "execution_count": 1,
   "metadata": {},
   "outputs": [],
   "source": [
    "from data_loader import DataLoader"
   ]
  },
  {
   "cell_type": "markdown",
   "metadata": {},
   "source": [
    "## Load TSV data"
   ]
  },
  {
   "cell_type": "code",
   "execution_count": 2,
   "metadata": {},
   "outputs": [
    {
     "name": "stderr",
     "output_type": "stream",
     "text": [
      "/Users/taejunpark/.pyenv/versions/3.7.7/envs/dp/lib/python3.7/site-packages/torchtext/data/field.py:150: UserWarning: Field class will be retired soon and moved to torchtext.legacy. Please see the most recent release notes for further information.\n",
      "  warnings.warn('{} class will be retired soon and moved to torchtext.legacy. Please see the most recent release notes for further information.'.format(self.__class__.__name__), UserWarning)\n",
      "/Users/taejunpark/.pyenv/versions/3.7.7/envs/dp/lib/python3.7/site-packages/torchtext/data/example.py:68: UserWarning: Example class will be retired soon and moved to torchtext.legacy. Please see the most recent release notes for further information.\n",
      "  warnings.warn('Example class will be retired soon and moved to torchtext.legacy. Please see the most recent release notes for further information.', UserWarning)\n",
      "/Users/taejunpark/.pyenv/versions/3.7.7/envs/dp/lib/python3.7/site-packages/torchtext/data/example.py:78: UserWarning: Example class will be retired soon and moved to torchtext.legacy. Please see the most recent release notes for further information.\n",
      "  warnings.warn('Example class will be retired soon and moved to torchtext.legacy. Please see the most recent release notes for further information.', UserWarning)\n",
      "/Users/taejunpark/.pyenv/versions/3.7.7/envs/dp/lib/python3.7/site-packages/torchtext/data/iterator.py:48: UserWarning: BucketIterator class will be retired soon and moved to torchtext.legacy. Please see the most recent release notes for further information.\n",
      "  warnings.warn('{} class will be retired soon and moved to torchtext.legacy. Please see the most recent release notes for further information.'.format(self.__class__.__name__), UserWarning)\n"
     ]
    }
   ],
   "source": [
    "loaders = DataLoader(\n",
    "    train_fn='./review.sorted.uniq.refined.tok.shuf.train.tsv',\n",
    "    batch_size=256,\n",
    "    valid_ratio=.2,\n",
    "    device=-1,\n",
    "    max_vocab=999999,\n",
    "    min_freq=5,\n",
    ")"
   ]
  },
  {
   "cell_type": "markdown",
   "metadata": {},
   "source": [
    "### Check loader"
   ]
  },
  {
   "cell_type": "code",
   "execution_count": 3,
   "metadata": {},
   "outputs": [
    {
     "name": "stdout",
     "output_type": "stream",
     "text": [
      "|train|=216348\n",
      "|valid|=54087\n"
     ]
    }
   ],
   "source": [
    "print(\"|train|=%d\" % len(loaders.train_loader.dataset))\n",
    "print(\"|valid|=%d\" % len(loaders.valid_loader.dataset))"
   ]
  },
  {
   "cell_type": "code",
   "execution_count": 4,
   "metadata": {},
   "outputs": [
    {
     "name": "stdout",
     "output_type": "stream",
     "text": [
      "|vocab|=17737\n",
      "|label|=2\n"
     ]
    }
   ],
   "source": [
    "print(\"|vocab|=%d\" % len(loaders.text.vocab))\n",
    "print(\"|label|=%d\" % len(loaders.label.vocab))"
   ]
  },
  {
   "cell_type": "markdown",
   "metadata": {},
   "source": [
    "### Get mini-batch tensors"
   ]
  },
  {
   "cell_type": "code",
   "execution_count": 13,
   "metadata": {
    "scrolled": true
   },
   "outputs": [
    {
     "name": "stdout",
     "output_type": "stream",
     "text": [
      "torch.Size([256, 20])\n",
      "torch.Size([256])\n"
     ]
    }
   ],
   "source": [
    "data = next(iter(loaders.train_loader))\n",
    "data = next(iter(loaders.train_loader))\n",
    "\n",
    "print(data.text.shape)\n",
    "print(data.label.shape)"
   ]
  },
  {
   "cell_type": "markdown",
   "metadata": {},
   "source": [
    "### Use vocab"
   ]
  },
  {
   "cell_type": "code",
   "execution_count": 6,
   "metadata": {},
   "outputs": [
    {
     "data": {
      "text/plain": [
       "['UNK',\n",
       " '__class__',\n",
       " '__delattr__',\n",
       " '__dict__',\n",
       " '__dir__',\n",
       " '__doc__',\n",
       " '__eq__',\n",
       " '__format__',\n",
       " '__ge__',\n",
       " '__getattribute__',\n",
       " '__getitem__',\n",
       " '__getstate__',\n",
       " '__gt__',\n",
       " '__hash__',\n",
       " '__init__',\n",
       " '__init_subclass__',\n",
       " '__le__',\n",
       " '__len__',\n",
       " '__lt__',\n",
       " '__module__',\n",
       " '__ne__',\n",
       " '__new__',\n",
       " '__reduce__',\n",
       " '__reduce_ex__',\n",
       " '__repr__',\n",
       " '__setattr__',\n",
       " '__setstate__',\n",
       " '__sizeof__',\n",
       " '__str__',\n",
       " '__subclasshook__',\n",
       " '__weakref__',\n",
       " '_default_unk_index',\n",
       " 'extend',\n",
       " 'freqs',\n",
       " 'itos',\n",
       " 'load_vectors',\n",
       " 'lookup_indices',\n",
       " 'set_vectors',\n",
       " 'stoi',\n",
       " 'unk_index',\n",
       " 'vectors']"
      ]
     },
     "execution_count": 6,
     "metadata": {},
     "output_type": "execute_result"
    }
   ],
   "source": [
    "dir(loaders.text.vocab)"
   ]
  },
  {
   "cell_type": "code",
   "execution_count": 7,
   "metadata": {},
   "outputs": [
    {
     "data": {
      "text/plain": [
       "18"
      ]
     },
     "execution_count": 7,
     "metadata": {},
     "output_type": "execute_result"
    }
   ],
   "source": [
    "loaders.text.vocab.stoi['배송']"
   ]
  },
  {
   "cell_type": "code",
   "execution_count": 8,
   "metadata": {},
   "outputs": [
    {
     "data": {
      "text/plain": [
       "'잘'"
      ]
     },
     "execution_count": 8,
     "metadata": {},
     "output_type": "execute_result"
    }
   ],
   "source": [
    "loaders.text.vocab.itos[16]"
   ]
  },
  {
   "cell_type": "markdown",
   "metadata": {},
   "source": [
    "#### Check most frequent words"
   ]
  },
  {
   "cell_type": "code",
   "execution_count": 9,
   "metadata": {},
   "outputs": [
    {
     "name": "stdout",
     "output_type": "stream",
     "text": [
      "    0: <unk>\t0\n",
      "    1: <pad>\t0\n",
      "    2: .\t259950\n",
      "    3: 고\t149559\n",
      "    4: 이\t142466\n",
      "    5: 하\t122704\n",
      "    6: 도\t101807\n",
      "    7: 네요\t98608\n",
      "    8: 좋\t97378\n",
      "    9: 에\t91820\n",
      "   10: 는\t85865\n",
      "   11: 가\t69571\n",
      "   12: 은\t65669\n",
      "   13: 는데\t56476\n",
      "   14: 아요\t54667\n",
      "   15: 게\t53512\n",
      "   16: 잘\t52525\n",
      "   17: 어요\t49992\n",
      "   18: 배송\t47136\n",
      "   19: 있\t44804\n",
      "   20: 습니다\t42879\n",
      "   21: 했\t42024\n",
      "   22: 안\t38462\n",
      "   23: 을\t37601\n",
      "   24: 한\t35561\n",
      "   25: ~\t33262\n",
      "   26: 구매\t31349\n",
      "   27: 같\t29948\n",
      "   28: 너무\t29654\n",
      "   29: 합니다\t29354\n",
      "   30: 거\t29246\n",
      "   31: 지\t28637\n",
      "   32: ..\t26949\n",
      "   33: 어\t25672\n",
      "   34: 다\t25512\n",
      "   35: !\t25413\n",
      "   36: ,\t25346\n",
      "   37: 가격\t24585\n",
      "   38: 되\t23966\n",
      "   39: ?\t23748\n",
      "   40: 것\t22976\n",
      "   41: 았\t22828\n",
      "   42: 들\t22501\n",
      "   43: 제품\t22435\n",
      "   44: 으로\t22204\n",
      "   45: 쓰\t22011\n",
      "   46: 아\t21534\n",
      "   47: 받\t21512\n",
      "   48: 만\t21379\n",
      "   49: 없\t21028\n"
     ]
    }
   ],
   "source": [
    "for i in range(50):\n",
    "    word = loaders.text.vocab.itos[i]\n",
    "    print('%5d: %s\\t%d' % (i, word, loaders.text.vocab.freqs[word]))"
   ]
  },
  {
   "cell_type": "markdown",
   "metadata": {},
   "source": [
    "#### Restore text from tensor"
   ]
  },
  {
   "cell_type": "code",
   "execution_count": 10,
   "metadata": {
    "scrolled": true
   },
   "outputs": [
    {
     "name": "stdout",
     "output_type": "stream",
     "text": [
      "tensor([0, 1])\n"
     ]
    }
   ],
   "source": [
    "print(data.text[-1])"
   ]
  },
  {
   "cell_type": "code",
   "execution_count": 11,
   "metadata": {},
   "outputs": [
    {
     "name": "stdout",
     "output_type": "stream",
     "text": [
      "<unk> <pad>\n"
     ]
    }
   ],
   "source": [
    "x = data.text[-1]\n",
    "line = []\n",
    "for x_i in x:\n",
    "    line += [loaders.text.vocab.itos[x_i]]\n",
    "    \n",
    "print(' '.join(line))"
   ]
  },
  {
   "cell_type": "code",
   "execution_count": null,
   "metadata": {},
   "outputs": [],
   "source": []
  }
 ],
 "metadata": {
  "kernelspec": {
   "display_name": "Python 3",
   "language": "python",
   "name": "python3"
  },
  "language_info": {
   "codemirror_mode": {
    "name": "ipython",
    "version": 3
   },
   "file_extension": ".py",
   "mimetype": "text/x-python",
   "name": "python",
   "nbconvert_exporter": "python",
   "pygments_lexer": "ipython3",
   "version": "3.7.7"
  }
 },
 "nbformat": 4,
 "nbformat_minor": 4
}
